{
 "cells": [
  {
   "cell_type": "code",
   "execution_count": 1,
   "id": "8de2bb8b",
   "metadata": {},
   "outputs": [],
   "source": [
    "import pandas as pd\n",
    "pd.options.display.max_colwidth = None"
   ]
  },
  {
   "cell_type": "code",
   "execution_count": 61,
   "id": "ecd37b00",
   "metadata": {},
   "outputs": [],
   "source": [
    "df = pd.read_csv(\"asylum_data.csv\")\n",
    "# pd.options.display.max_rows = 100\n",
    "# df_bycountry = df.groupby(by = \"country\").decision.value_counts().unstack().fillna(0).reset_index()\n",
    "# df_bycountry\n"
   ]
  },
  {
   "cell_type": "code",
   "execution_count": 3,
   "id": "c41cb379",
   "metadata": {},
   "outputs": [],
   "source": [
    "df_bycountry.to_csv(\"asylum_decisions_country.csv\", index = False)"
   ]
  },
  {
   "cell_type": "code",
   "execution_count": null,
   "id": "5fc0eb3a",
   "metadata": {},
   "outputs": [],
   "source": []
  },
  {
   "cell_type": "code",
   "execution_count": 4,
   "id": "210f4665",
   "metadata": {},
   "outputs": [],
   "source": [
    "df_bycountry = pd.read_csv(\"asylum_decisions_country.csv\")"
   ]
  },
  {
   "cell_type": "markdown",
   "id": "51e505df",
   "metadata": {},
   "source": [
    "#### Calculate the percentage of cases that got denied for each country"
   ]
  },
  {
   "cell_type": "code",
   "execution_count": 37,
   "id": "383a350e",
   "metadata": {},
   "outputs": [],
   "source": [
    "df_bycountry[\"app_num\"] = df_bycountry[\"denied\"]+df_bycountry[\"granted\"]+df_bycountry[\"partially granted\"]"
   ]
  },
  {
   "cell_type": "code",
   "execution_count": 38,
   "id": "7bc7a625",
   "metadata": {},
   "outputs": [],
   "source": [
    "df_bycountry[\"percent_denied\"] = round(df_bycountry[\"denied\"]*100/df_bycountry[\"app_num\"])"
   ]
  },
  {
   "cell_type": "code",
   "execution_count": 47,
   "id": "d19e0f40",
   "metadata": {},
   "outputs": [],
   "source": [
    "df_bycountry = df_bycountry.sort_values(by = \"app_num\", ascending = False).head(13)"
   ]
  },
  {
   "cell_type": "code",
   "execution_count": 48,
   "id": "b4cbc0aa",
   "metadata": {},
   "outputs": [
    {
     "data": {
      "text/html": [
       "<div>\n",
       "<style scoped>\n",
       "    .dataframe tbody tr th:only-of-type {\n",
       "        vertical-align: middle;\n",
       "    }\n",
       "\n",
       "    .dataframe tbody tr th {\n",
       "        vertical-align: top;\n",
       "    }\n",
       "\n",
       "    .dataframe thead th {\n",
       "        text-align: right;\n",
       "    }\n",
       "</style>\n",
       "<table border=\"1\" class=\"dataframe\">\n",
       "  <thead>\n",
       "    <tr style=\"text-align: right;\">\n",
       "      <th>decision</th>\n",
       "      <th>country</th>\n",
       "      <th>denied</th>\n",
       "      <th>granted</th>\n",
       "      <th>partially granted</th>\n",
       "      <th>app_num</th>\n",
       "      <th>percent_denied</th>\n",
       "      <th>string</th>\n",
       "    </tr>\n",
       "  </thead>\n",
       "  <tbody>\n",
       "    <tr>\n",
       "      <th>10</th>\n",
       "      <td>China</td>\n",
       "      <td>179.0</td>\n",
       "      <td>13.0</td>\n",
       "      <td>0.0</td>\n",
       "      <td>192.0</td>\n",
       "      <td>93.0</td>\n",
       "      <td>For asylum applicants from China, 179 cases were denied. This is 93% of all applications from this country.</td>\n",
       "    </tr>\n",
       "    <tr>\n",
       "      <th>26</th>\n",
       "      <td>India</td>\n",
       "      <td>85.0</td>\n",
       "      <td>10.0</td>\n",
       "      <td>1.0</td>\n",
       "      <td>96.0</td>\n",
       "      <td>89.0</td>\n",
       "      <td>For asylum applicants from India, 85 cases were denied. This is 89% of all applications from this country.</td>\n",
       "    </tr>\n",
       "    <tr>\n",
       "      <th>38</th>\n",
       "      <td>Nepal</td>\n",
       "      <td>37.0</td>\n",
       "      <td>4.0</td>\n",
       "      <td>0.0</td>\n",
       "      <td>41.0</td>\n",
       "      <td>90.0</td>\n",
       "      <td>For asylum applicants from Nepal, 37 cases were denied. This is 90% of all applications from this country.</td>\n",
       "    </tr>\n",
       "    <tr>\n",
       "      <th>18</th>\n",
       "      <td>El Salvador</td>\n",
       "      <td>36.0</td>\n",
       "      <td>4.0</td>\n",
       "      <td>1.0</td>\n",
       "      <td>41.0</td>\n",
       "      <td>88.0</td>\n",
       "      <td>For asylum applicants from El Salvador, 36 cases were denied. This is 88% of all applications from this country.</td>\n",
       "    </tr>\n",
       "    <tr>\n",
       "      <th>24</th>\n",
       "      <td>Honduras</td>\n",
       "      <td>20.0</td>\n",
       "      <td>7.0</td>\n",
       "      <td>4.0</td>\n",
       "      <td>31.0</td>\n",
       "      <td>65.0</td>\n",
       "      <td>For asylum applicants from Honduras, 20 cases were denied. This is 65% of all applications from this country.</td>\n",
       "    </tr>\n",
       "    <tr>\n",
       "      <th>21</th>\n",
       "      <td>Guatemala</td>\n",
       "      <td>19.0</td>\n",
       "      <td>9.0</td>\n",
       "      <td>3.0</td>\n",
       "      <td>31.0</td>\n",
       "      <td>61.0</td>\n",
       "      <td>For asylum applicants from Guatemala, 19 cases were denied. This is 61% of all applications from this country.</td>\n",
       "    </tr>\n",
       "    <tr>\n",
       "      <th>2</th>\n",
       "      <td>Bangladesh</td>\n",
       "      <td>24.0</td>\n",
       "      <td>3.0</td>\n",
       "      <td>0.0</td>\n",
       "      <td>27.0</td>\n",
       "      <td>89.0</td>\n",
       "      <td>For asylum applicants from Bangladesh, 24 cases were denied. This is 89% of all applications from this country.</td>\n",
       "    </tr>\n",
       "    <tr>\n",
       "      <th>17</th>\n",
       "      <td>Ecuador</td>\n",
       "      <td>26.0</td>\n",
       "      <td>0.0</td>\n",
       "      <td>0.0</td>\n",
       "      <td>26.0</td>\n",
       "      <td>100.0</td>\n",
       "      <td>For asylum applicants from Ecuador, 26 cases were denied. This is 100% of all applications from this country.</td>\n",
       "    </tr>\n",
       "    <tr>\n",
       "      <th>35</th>\n",
       "      <td>Mexico</td>\n",
       "      <td>16.0</td>\n",
       "      <td>2.0</td>\n",
       "      <td>0.0</td>\n",
       "      <td>18.0</td>\n",
       "      <td>89.0</td>\n",
       "      <td>For asylum applicants from Mexico, 16 cases were denied. This is 89% of all applications from this country.</td>\n",
       "    </tr>\n",
       "    <tr>\n",
       "      <th>0</th>\n",
       "      <td>Albania</td>\n",
       "      <td>14.0</td>\n",
       "      <td>0.0</td>\n",
       "      <td>0.0</td>\n",
       "      <td>14.0</td>\n",
       "      <td>100.0</td>\n",
       "      <td>For asylum applicants from Albania, 14 cases were denied. This is 100% of all applications from this country.</td>\n",
       "    </tr>\n",
       "    <tr>\n",
       "      <th>29</th>\n",
       "      <td>Jamaica</td>\n",
       "      <td>4.0</td>\n",
       "      <td>3.0</td>\n",
       "      <td>4.0</td>\n",
       "      <td>11.0</td>\n",
       "      <td>36.0</td>\n",
       "      <td>For asylum applicants from Jamaica, 4 cases were denied. This is 36% of all applications from this country.</td>\n",
       "    </tr>\n",
       "    <tr>\n",
       "      <th>23</th>\n",
       "      <td>Haiti</td>\n",
       "      <td>7.0</td>\n",
       "      <td>1.0</td>\n",
       "      <td>0.0</td>\n",
       "      <td>8.0</td>\n",
       "      <td>88.0</td>\n",
       "      <td>For asylum applicants from Haiti, 7 cases were denied. This is 88% of all applications from this country.</td>\n",
       "    </tr>\n",
       "    <tr>\n",
       "      <th>42</th>\n",
       "      <td>Pakistan</td>\n",
       "      <td>8.0</td>\n",
       "      <td>0.0</td>\n",
       "      <td>0.0</td>\n",
       "      <td>8.0</td>\n",
       "      <td>100.0</td>\n",
       "      <td>For asylum applicants from Pakistan, 8 cases were denied. This is 100% of all applications from this country.</td>\n",
       "    </tr>\n",
       "  </tbody>\n",
       "</table>\n",
       "</div>"
      ],
      "text/plain": [
       "decision      country  denied  granted  partially granted  app_num  \\\n",
       "10              China   179.0     13.0                0.0    192.0   \n",
       "26              India    85.0     10.0                1.0     96.0   \n",
       "38              Nepal    37.0      4.0                0.0     41.0   \n",
       "18        El Salvador    36.0      4.0                1.0     41.0   \n",
       "24           Honduras    20.0      7.0                4.0     31.0   \n",
       "21          Guatemala    19.0      9.0                3.0     31.0   \n",
       "2          Bangladesh    24.0      3.0                0.0     27.0   \n",
       "17            Ecuador    26.0      0.0                0.0     26.0   \n",
       "35             Mexico    16.0      2.0                0.0     18.0   \n",
       "0             Albania    14.0      0.0                0.0     14.0   \n",
       "29            Jamaica     4.0      3.0                4.0     11.0   \n",
       "23              Haiti     7.0      1.0                0.0      8.0   \n",
       "42           Pakistan     8.0      0.0                0.0      8.0   \n",
       "\n",
       "decision  percent_denied  \\\n",
       "10                  93.0   \n",
       "26                  89.0   \n",
       "38                  90.0   \n",
       "18                  88.0   \n",
       "24                  65.0   \n",
       "21                  61.0   \n",
       "2                   89.0   \n",
       "17                 100.0   \n",
       "35                  89.0   \n",
       "0                  100.0   \n",
       "29                  36.0   \n",
       "23                  88.0   \n",
       "42                 100.0   \n",
       "\n",
       "decision                                                                                                            string  \n",
       "10             For asylum applicants from China, 179 cases were denied. This is 93% of all applications from this country.  \n",
       "26              For asylum applicants from India, 85 cases were denied. This is 89% of all applications from this country.  \n",
       "38              For asylum applicants from Nepal, 37 cases were denied. This is 90% of all applications from this country.  \n",
       "18        For asylum applicants from El Salvador, 36 cases were denied. This is 88% of all applications from this country.  \n",
       "24           For asylum applicants from Honduras, 20 cases were denied. This is 65% of all applications from this country.  \n",
       "21          For asylum applicants from Guatemala, 19 cases were denied. This is 61% of all applications from this country.  \n",
       "2          For asylum applicants from Bangladesh, 24 cases were denied. This is 89% of all applications from this country.  \n",
       "17           For asylum applicants from Ecuador, 26 cases were denied. This is 100% of all applications from this country.  \n",
       "35             For asylum applicants from Mexico, 16 cases were denied. This is 89% of all applications from this country.  \n",
       "0            For asylum applicants from Albania, 14 cases were denied. This is 100% of all applications from this country.  \n",
       "29             For asylum applicants from Jamaica, 4 cases were denied. This is 36% of all applications from this country.  \n",
       "23               For asylum applicants from Haiti, 7 cases were denied. This is 88% of all applications from this country.  \n",
       "42           For asylum applicants from Pakistan, 8 cases were denied. This is 100% of all applications from this country.  "
      ]
     },
     "execution_count": 48,
     "metadata": {},
     "output_type": "execute_result"
    }
   ],
   "source": [
    "df_bycountry[\"string\"] = \"For asylum applicants from \" + df_bycountry[\"country\"] + \", \" + df_bycountry[\"denied\"].astype(int).astype(str) + \" cases were denied. This is \" + df_bycountry[\"percent_denied\"].astype(int).astype(str) + \"% of all applications from this country.\"\n",
    "df_bycountry"
   ]
  },
  {
   "cell_type": "code",
   "execution_count": 49,
   "id": "4e45c623",
   "metadata": {},
   "outputs": [],
   "source": [
    "df_bycountry.to_csv(\"asylum_decisions_country.csv\")"
   ]
  },
  {
   "cell_type": "code",
   "execution_count": 55,
   "id": "6ae2f2a3",
   "metadata": {},
   "outputs": [
    {
     "data": {
      "text/plain": [
       "<AxesSubplot: ylabel='country'>"
      ]
     },
     "execution_count": 55,
     "metadata": {},
     "output_type": "execute_result"
    },
    {
     "data": {
      "image/png": "[encoded data removed]",
      "text/plain": [
       "<Figure size 640x480 with 1 Axes>"
      ]
     },
     "metadata": {},
     "output_type": "display_data"
    }
   ],
   "source": [
    "df_bycountry.plot(x= \"country\", y=\"percent_denied\", kind = \"barh\")"
   ]
  },
  {
   "cell_type": "markdown",
   "id": "28cde02e",
   "metadata": {},
   "source": [
    "#### Get core terms and number of times it's said for each country"
   ]
  },
  {
   "cell_type": "code",
   "execution_count": 71,
   "id": "4b629369",
   "metadata": {},
   "outputs": [],
   "source": [
    "# still working on it :("
   ]
  },
  {
   "cell_type": "code",
   "execution_count": null,
   "id": "4f267c1b",
   "metadata": {},
   "outputs": [],
   "source": []
  },
  {
   "cell_type": "code",
   "execution_count": null,
   "id": "ee8096fc",
   "metadata": {},
   "outputs": [],
   "source": []
  },
  {
   "cell_type": "code",
   "execution_count": null,
   "id": "4f267c8f",
   "metadata": {},
   "outputs": [],
   "source": []
  },
  {
   "cell_type": "code",
   "execution_count": null,
   "id": "e00aee9a",
   "metadata": {},
   "outputs": [],
   "source": []
  },
  {
   "cell_type": "code",
   "execution_count": null,
   "id": "15b4958a",
   "metadata": {},
   "outputs": [],
   "source": []
  },
  {
   "cell_type": "code",
   "execution_count": null,
   "id": "48699498",
   "metadata": {},
   "outputs": [],
   "source": []
  }
 ],
 "metadata": {
  "kernelspec": {
   "display_name": "Python 3 (ipykernel)",
   "language": "python",
   "name": "python3"
  },
  "language_info": {
   "codemirror_mode": {
    "name": "ipython",
    "version": 3
   },
   "file_extension": ".py",
   "mimetype": "text/x-python",
   "name": "python",
   "nbconvert_exporter": "python",
   "pygments_lexer": "ipython3",
   "version": "3.11.0rc2"
  }
 },
 "nbformat": 4,
 "nbformat_minor": 5
}
